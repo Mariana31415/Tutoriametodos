{
  "nbformat": 4,
  "nbformat_minor": 0,
  "metadata": {
    "colab": {
      "provenance": []
    },
    "kernelspec": {
      "name": "python3",
      "display_name": "Python 3"
    },
    "language_info": {
      "name": "python"
    }
  },
  "cells": [
    {
      "cell_type": "markdown",
      "source": [
        "# Junio 10: Repaso de programación"
      ],
      "metadata": {
        "id": "SA1hfd5ox0yn"
      }
    },
    {
      "cell_type": "code",
      "execution_count": null,
      "metadata": {
        "id": "mj9frizeqKVE"
      },
      "outputs": [],
      "source": [
        "l = [\"Mariana\", 21, {\"edad\": 21}]"
      ]
    },
    {
      "cell_type": "code",
      "source": [
        "for i in range(len(l)):\n",
        "    print(l[i])"
      ],
      "metadata": {
        "colab": {
          "base_uri": "https://localhost:8080/"
        },
        "id": "UqE_OHavzvGX",
        "outputId": "0b952f50-2964-47e6-c534-4f74e19dee2b"
      },
      "execution_count": null,
      "outputs": [
        {
          "output_type": "stream",
          "name": "stdout",
          "text": [
            "Mariana\n",
            "21\n",
            "{'edad': 21}\n"
          ]
        }
      ]
    },
    {
      "cell_type": "code",
      "source": [
        "for elemento in l:\n",
        "    print(elemento)"
      ],
      "metadata": {
        "colab": {
          "base_uri": "https://localhost:8080/"
        },
        "id": "dM8XvjU0z5OW",
        "outputId": "eb8bea7d-f851-4cc8-90d1-4b864bac926d"
      },
      "execution_count": null,
      "outputs": [
        {
          "output_type": "stream",
          "name": "stdout",
          "text": [
            "Mariana\n",
            "21\n",
            "{'edad': 21}\n"
          ]
        }
      ]
    },
    {
      "cell_type": "markdown",
      "source": [
        "## Comprensión de listas"
      ],
      "metadata": {
        "id": "qLBo8clh0Jey"
      }
    },
    {
      "cell_type": "code",
      "source": [
        "numeros = []\n",
        "\n",
        "for i in range(1, 11):\n",
        "    numeros.append(i)"
      ],
      "metadata": {
        "id": "FXd-vDFg0MOk"
      },
      "execution_count": null,
      "outputs": []
    },
    {
      "cell_type": "code",
      "source": [
        "numeros"
      ],
      "metadata": {
        "colab": {
          "base_uri": "https://localhost:8080/"
        },
        "id": "yHpl8_3o0pz-",
        "outputId": "340eed17-c04c-4b75-b59e-354c76a19451"
      },
      "execution_count": null,
      "outputs": [
        {
          "output_type": "execute_result",
          "data": {
            "text/plain": [
              "[1, 2, 3, 4, 5, 6, 7, 8, 9, 10]"
            ]
          },
          "metadata": {},
          "execution_count": 80
        }
      ]
    },
    {
      "cell_type": "code",
      "source": [
        "numeros1 = [i for i in range(1, 11)]"
      ],
      "metadata": {
        "id": "QsmFUiXI01v5"
      },
      "execution_count": null,
      "outputs": []
    },
    {
      "cell_type": "code",
      "source": [
        "numeros1"
      ],
      "metadata": {
        "colab": {
          "base_uri": "https://localhost:8080/"
        },
        "id": "d-U7B4zm0-AS",
        "outputId": "e51f5c60-49c5-4a25-ce53-d5df5dcbe0bf"
      },
      "execution_count": null,
      "outputs": [
        {
          "output_type": "execute_result",
          "data": {
            "text/plain": [
              "[1, 2, 3, 4, 5, 6, 7, 8, 9, 10]"
            ]
          },
          "metadata": {},
          "execution_count": 82
        }
      ]
    },
    {
      "cell_type": "markdown",
      "source": [
        "Tienes una lista de palabras y esas palabras van a formar una frase. Concatenar las palabras de la lista e imprimir la frase resultante, y entre palabras debe haber un espacio.\n"
      ],
      "metadata": {
        "id": "5yObOsV15_tk"
      }
    },
    {
      "cell_type": "code",
      "source": [
        "frase = [\"Veni\", \"vidi\", \"vici\"]"
      ],
      "metadata": {
        "id": "xiTvZEn65_aj"
      },
      "execution_count": null,
      "outputs": []
    },
    {
      "cell_type": "markdown",
      "source": [
        "## Programación orientada a objetos\n",
        "\n",
        "### Clase: Persona\n",
        "- Altura\n",
        "- Edad\n",
        "- Nombre\n",
        "- Documento de identidad"
      ],
      "metadata": {
        "id": "OYl6S7ow-jRu"
      }
    },
    {
      "cell_type": "code",
      "source": [
        "class Persona:\n",
        "    def __init__(self, nombre, edad, altura, documento):\n",
        "        self.nombre = nombre\n",
        "        self.edad = edad\n",
        "        self.altura = altura\n",
        "        self.documento = documento\n",
        "\n",
        "    def __str__(self):\n",
        "        return f\"Nombre: {self.nombre}\\nEdad: {self.edad}\\nAltura: {self.altura}\""
      ],
      "metadata": {
        "id": "zVGkhpHb-kgn"
      },
      "execution_count": null,
      "outputs": []
    },
    {
      "cell_type": "code",
      "source": [
        "class Carro:\n",
        "    def __init__(self, color, marca, placa):\n",
        "        self.color = color\n",
        "        self.marca = marca\n",
        "        self.placa = placa"
      ],
      "metadata": {
        "id": "2Ma27i8IAUOx"
      },
      "execution_count": null,
      "outputs": []
    },
    {
      "cell_type": "code",
      "source": [
        "mariana = Persona(\"Mariana\", 18, 1.52, \"12345678\")"
      ],
      "metadata": {
        "id": "b0gK44kjAqhg"
      },
      "execution_count": null,
      "outputs": []
    },
    {
      "cell_type": "code",
      "source": [
        "print(mariana)"
      ],
      "metadata": {
        "colab": {
          "base_uri": "https://localhost:8080/"
        },
        "id": "sE4Ej4W1BGJD",
        "outputId": "9cbef51d-1b65-4829-94b6-c215c421e289"
      },
      "execution_count": null,
      "outputs": [
        {
          "output_type": "stream",
          "name": "stdout",
          "text": [
            "Nombre: Mariana\n",
            "Edad: 18\n",
            "Altura: 1.52\n"
          ]
        }
      ]
    },
    {
      "cell_type": "code",
      "source": [
        "ford = Carro(\"gris\", \"Ford\", \"FWE678\")"
      ],
      "metadata": {
        "id": "PMLGsRvnBJEV"
      },
      "execution_count": null,
      "outputs": []
    },
    {
      "cell_type": "code",
      "source": [
        "print(ford)"
      ],
      "metadata": {
        "colab": {
          "base_uri": "https://localhost:8080/"
        },
        "id": "80SSaclQBtd9",
        "outputId": "6cd5e7b2-576a-449d-b0ca-890f90b4c4a5"
      },
      "execution_count": null,
      "outputs": [
        {
          "output_type": "stream",
          "name": "stdout",
          "text": [
            "<__main__.Carro object at 0x7fa4ce68c1c0>\n"
          ]
        }
      ]
    },
    {
      "cell_type": "markdown",
      "source": [
        "## Tareas\n",
        "\n",
        "Crear las clases y 1 objeto para los siguientes elementos de la naturaleza:\n",
        "- Libro\n",
        "- Computador\n",
        "- Punto cartesiano\n",
        "- Serie de Netflix\n",
        "\n",
        "Hackerrank\n"
      ],
      "metadata": {
        "id": "B2mj_YWzC5gM"
      }
    },
    {
      "cell_type": "markdown",
      "source": [
        "## Numpy\n",
        "\n",
        "Librería para trabajar arreglos, matrices, y álgebra lineal en general."
      ],
      "metadata": {
        "id": "z-HZq3Lhx84Z"
      }
    },
    {
      "cell_type": "code",
      "source": [
        "import numpy as np"
      ],
      "metadata": {
        "id": "JaOt5jv5x_IF"
      },
      "execution_count": null,
      "outputs": []
    },
    {
      "cell_type": "code",
      "source": [
        "l = [1, 2, 3, 4, 5, 6]"
      ],
      "metadata": {
        "id": "P8j4CohE55SA"
      },
      "execution_count": null,
      "outputs": []
    },
    {
      "cell_type": "code",
      "source": [
        "l[0]"
      ],
      "metadata": {
        "colab": {
          "base_uri": "https://localhost:8080/"
        },
        "id": "ObQTjCBU6xv5",
        "outputId": "564357d3-9959-4b6e-9258-c11e420acd4e"
      },
      "execution_count": null,
      "outputs": [
        {
          "output_type": "execute_result",
          "data": {
            "text/plain": [
              "1"
            ]
          },
          "metadata": {},
          "execution_count": 92
        }
      ]
    },
    {
      "cell_type": "code",
      "source": [
        "arr = np.array([1,2,3,4,5,6])"
      ],
      "metadata": {
        "id": "JVCCkGFn6d43"
      },
      "execution_count": null,
      "outputs": []
    },
    {
      "cell_type": "code",
      "source": [
        "arr[0]"
      ],
      "metadata": {
        "colab": {
          "base_uri": "https://localhost:8080/"
        },
        "id": "DaXkErE26vSo",
        "outputId": "b31ed804-725b-4797-c288-80f1b9b43832"
      },
      "execution_count": null,
      "outputs": [
        {
          "output_type": "execute_result",
          "data": {
            "text/plain": [
              "1"
            ]
          },
          "metadata": {},
          "execution_count": 94
        }
      ]
    },
    {
      "cell_type": "code",
      "source": [
        "arr.shape"
      ],
      "metadata": {
        "colab": {
          "base_uri": "https://localhost:8080/"
        },
        "id": "mhkqy3Y7_Y9a",
        "outputId": "186aa5c5-4959-4023-d32d-ed16b68fbcc0"
      },
      "execution_count": null,
      "outputs": [
        {
          "output_type": "execute_result",
          "data": {
            "text/plain": [
              "(6,)"
            ]
          },
          "metadata": {},
          "execution_count": 95
        }
      ]
    },
    {
      "cell_type": "markdown",
      "source": [
        "$\\left[\\begin{array}\n",
        "xx_{11} & x_{12} & \\cdots & x_{1n}\\\\\n",
        "x_{21} & x_{22} & \\cdots & x_{2n}\\\\\n",
        "\\vdots & \\vdots & \\ddots & \\vdots\\\\\n",
        "x_{m1} & x_{m2} & \\cdots & x_{mn}\\\\\n",
        "\\end{array}\\right]$"
      ],
      "metadata": {
        "id": "5SjiKrT47p1o"
      }
    },
    {
      "cell_type": "markdown",
      "source": [
        "$\\left[\\begin{array}11 & 2\\\\\n",
        "3 & 4\\\\\n",
        "\\end{array}\\right]$"
      ],
      "metadata": {
        "id": "xOECDUSK8kem"
      }
    },
    {
      "cell_type": "code",
      "source": [
        "matrix = np.array(\n",
        "    [[1, 2], [3, 4]]\n",
        ")"
      ],
      "metadata": {
        "id": "dCw0k2QT6wYZ"
      },
      "execution_count": null,
      "outputs": []
    },
    {
      "cell_type": "code",
      "source": [
        "matrix[0][1]"
      ],
      "metadata": {
        "colab": {
          "base_uri": "https://localhost:8080/"
        },
        "id": "mVPtT5Hw81Ia",
        "outputId": "1d4189de-03f0-4da4-9343-2d181e074ec9"
      },
      "execution_count": null,
      "outputs": [
        {
          "output_type": "execute_result",
          "data": {
            "text/plain": [
              "2"
            ]
          },
          "metadata": {},
          "execution_count": 97
        }
      ]
    },
    {
      "cell_type": "code",
      "source": [
        "matrix.shape"
      ],
      "metadata": {
        "colab": {
          "base_uri": "https://localhost:8080/"
        },
        "id": "fIOcKN6Q_J9A",
        "outputId": "9fcfcaab-ed9a-4710-ecda-fb5f2c2f1fba"
      },
      "execution_count": null,
      "outputs": [
        {
          "output_type": "execute_result",
          "data": {
            "text/plain": [
              "(2, 2)"
            ]
          },
          "metadata": {},
          "execution_count": 98
        }
      ]
    },
    {
      "cell_type": "code",
      "source": [
        "l[2:4]"
      ],
      "metadata": {
        "colab": {
          "base_uri": "https://localhost:8080/"
        },
        "id": "3jcXuGIX80Bg",
        "outputId": "6d11d64f-ab82-4f37-b765-c7282e23147d"
      },
      "execution_count": null,
      "outputs": [
        {
          "output_type": "execute_result",
          "data": {
            "text/plain": [
              "[3, 4]"
            ]
          },
          "metadata": {},
          "execution_count": 99
        }
      ]
    },
    {
      "cell_type": "code",
      "source": [
        "arr[2:4]"
      ],
      "metadata": {
        "colab": {
          "base_uri": "https://localhost:8080/"
        },
        "id": "7BJMiFLn9z17",
        "outputId": "21684527-fe84-4f04-f807-4d6b61d2ec56"
      },
      "execution_count": null,
      "outputs": [
        {
          "output_type": "execute_result",
          "data": {
            "text/plain": [
              "array([3, 4])"
            ]
          },
          "metadata": {},
          "execution_count": 100
        }
      ]
    },
    {
      "cell_type": "code",
      "source": [
        "for i in range(0, 10):\n",
        "    print(i)"
      ],
      "metadata": {
        "colab": {
          "base_uri": "https://localhost:8080/"
        },
        "id": "bTIQ17JF9Vj4",
        "outputId": "fdc93d96-68a7-41f1-aa44-875ec3354834"
      },
      "execution_count": null,
      "outputs": [
        {
          "output_type": "stream",
          "name": "stdout",
          "text": [
            "0\n",
            "1\n",
            "2\n",
            "3\n",
            "4\n",
            "5\n",
            "6\n",
            "7\n",
            "8\n",
            "9\n"
          ]
        }
      ]
    },
    {
      "cell_type": "code",
      "source": [
        "arr.dtype"
      ],
      "metadata": {
        "colab": {
          "base_uri": "https://localhost:8080/"
        },
        "id": "TthIChn69sR_",
        "outputId": "e89bcf0c-cc28-4dc2-e414-4bb4222163ac"
      },
      "execution_count": null,
      "outputs": [
        {
          "output_type": "execute_result",
          "data": {
            "text/plain": [
              "dtype('int64')"
            ]
          },
          "metadata": {},
          "execution_count": 102
        }
      ]
    },
    {
      "cell_type": "code",
      "source": [
        "arr1 = np.array([1,2,3], dtype=\"float64\")"
      ],
      "metadata": {
        "id": "RfhjLV0z-TWs"
      },
      "execution_count": null,
      "outputs": []
    },
    {
      "cell_type": "markdown",
      "source": [
        "- int\n",
        "- float64"
      ],
      "metadata": {
        "id": "HoDWBRQp-61i"
      }
    },
    {
      "cell_type": "code",
      "source": [
        "arr1"
      ],
      "metadata": {
        "colab": {
          "base_uri": "https://localhost:8080/"
        },
        "id": "dGfQ39CF-j_O",
        "outputId": "b3bbf06d-ab9a-45ae-f76b-ed7226178195"
      },
      "execution_count": null,
      "outputs": [
        {
          "output_type": "execute_result",
          "data": {
            "text/plain": [
              "array([1., 2., 3.])"
            ]
          },
          "metadata": {},
          "execution_count": 104
        }
      ]
    },
    {
      "cell_type": "code",
      "source": [
        "np.cross([1,2,3], [4,5,6])"
      ],
      "metadata": {
        "colab": {
          "base_uri": "https://localhost:8080/"
        },
        "id": "WwILgco7AFTa",
        "outputId": "eedb2323-82e7-4c01-e6b7-9a99bbbc80d6"
      },
      "execution_count": null,
      "outputs": [
        {
          "output_type": "execute_result",
          "data": {
            "text/plain": [
              "array([-3,  6, -3])"
            ]
          },
          "metadata": {},
          "execution_count": 105
        }
      ]
    },
    {
      "cell_type": "markdown",
      "source": [
        "## Pandas/Matplotlib"
      ],
      "metadata": {
        "id": "PUpFUgH8Agqv"
      }
    },
    {
      "cell_type": "code",
      "source": [
        "import matplotlib.pyplot as plt\n",
        "from matplotlib.animation import FuncAnimation"
      ],
      "metadata": {
        "id": "FEduzw--Ajua"
      },
      "execution_count": null,
      "outputs": []
    },
    {
      "cell_type": "code",
      "source": [
        "x = np.array([7, 12])\n",
        "y = np.array([4, 5])\n",
        "\n",
        "plt.plot(x, y, marker=\"X\")"
      ],
      "metadata": {
        "colab": {
          "base_uri": "https://localhost:8080/",
          "height": 447
        },
        "id": "VIglYdGwA0Pc",
        "outputId": "65642ffa-f2e5-4635-c77f-779ff1e8dfcb"
      },
      "execution_count": null,
      "outputs": [
        {
          "output_type": "execute_result",
          "data": {
            "text/plain": [
              "[<matplotlib.lines.Line2D at 0x7fa4ce53cd90>]"
            ]
          },
          "metadata": {},
          "execution_count": 107
        },
        {
          "output_type": "display_data",
          "data": {
            "text/plain": [
              "<Figure size 640x480 with 1 Axes>"
            ],
            "image/png": "[encoded data removed]"
          },
          "metadata": {}
        }
      ]
    },
    {
      "cell_type": "markdown",
      "source": [
        "## Newton-Raphson"
      ],
      "metadata": {
        "id": "NPhKR0n2hMez"
      }
    },
    {
      "cell_type": "code",
      "source": [
        "def tangent(m, x1, y1, x):\n",
        "    return m*(x-x1) + y1\n",
        "\n",
        "f = lambda x: x**2\n",
        "dfdx = lambda x: 2*x"
      ],
      "metadata": {
        "id": "clFTw2qYlLEj"
      },
      "execution_count": null,
      "outputs": []
    },
    {
      "cell_type": "code",
      "source": [
        "def newton(x0, f, dfdx):\n",
        "    error = 1E-15\n",
        "    i = 0\n",
        "    xi_1 = x0\n",
        "\n",
        "    line = (dfdx(xi_1), xi_1, f(xi_1))\n",
        "\n",
        "    plots = []\n",
        "\n",
        "    # print(\"Iteration \" + str(i) + \": x = \" + str(x0) + \", f(x) = \" +\n",
        "    #     str(f(x0)))\n",
        "\n",
        "    while abs(f(xi_1)) > error:\n",
        "        i = i + 1\n",
        "        xi = xi_1-f(xi_1)/dfdx(xi_1)\n",
        "        # print(\"\\nIteration \" + str(i) + \": x = \" + str(xi) + \", f(x) = \" +\n",
        "        #     str(f(xi)))\n",
        "        xi_1 = xi\n",
        "\n",
        "        # plt.plot(domain, f(domain))\n",
        "        # plt.plot(xi, 0, \"*\")\n",
        "        # plt.plot(domain, tangent(line[0], line[1], line[2], domain))\n",
        "        # plt.grid()\n",
        "        # plt.show()\n",
        "\n",
        "        plots.append((line[0], line[1], line[2], xi))\n",
        "        line = (dfdx(xi_1), xi_1, f(xi_1))\n",
        "\n",
        "    return plots"
      ],
      "metadata": {
        "id": "CeZ-mtc1hPu8"
      },
      "execution_count": null,
      "outputs": []
    },
    {
      "cell_type": "code",
      "source": [
        "plots = newton(1, f, dfdx)"
      ],
      "metadata": {
        "id": "Bp-YMJLxhxan"
      },
      "execution_count": null,
      "outputs": []
    },
    {
      "cell_type": "code",
      "source": [
        "plots"
      ],
      "metadata": {
        "colab": {
          "base_uri": "https://localhost:8080/"
        },
        "id": "X_CIvRL_UVPH",
        "outputId": "e94cbe96-e445-4306-f338-81e3bfd4a50b"
      },
      "execution_count": null,
      "outputs": [
        {
          "output_type": "execute_result",
          "data": {
            "text/plain": [
              "[(2, 1, 1, 0.5),\n",
              " (1.0, 0.5, 0.25, 0.25),\n",
              " (0.5, 0.25, 0.0625, 0.125),\n",
              " (0.25, 0.125, 0.015625, 0.0625),\n",
              " (0.125, 0.0625, 0.00390625, 0.03125),\n",
              " (0.0625, 0.03125, 0.0009765625, 0.015625),\n",
              " (0.03125, 0.015625, 0.000244140625, 0.0078125),\n",
              " (0.015625, 0.0078125, 6.103515625e-05, 0.00390625),\n",
              " (0.0078125, 0.00390625, 1.52587890625e-05, 0.001953125),\n",
              " (0.00390625, 0.001953125, 3.814697265625e-06, 0.0009765625),\n",
              " (0.001953125, 0.0009765625, 9.5367431640625e-07, 0.00048828125),\n",
              " (0.0009765625, 0.00048828125, 2.384185791015625e-07, 0.000244140625),\n",
              " (0.00048828125, 0.000244140625, 5.960464477539063e-08, 0.0001220703125),\n",
              " (0.000244140625, 0.0001220703125, 1.4901161193847656e-08, 6.103515625e-05),\n",
              " (0.0001220703125, 6.103515625e-05, 3.725290298461914e-09, 3.0517578125e-05),\n",
              " (6.103515625e-05, 3.0517578125e-05, 9.313225746154785e-10, 1.52587890625e-05),\n",
              " (3.0517578125e-05,\n",
              "  1.52587890625e-05,\n",
              "  2.3283064365386963e-10,\n",
              "  7.62939453125e-06),\n",
              " (1.52587890625e-05,\n",
              "  7.62939453125e-06,\n",
              "  5.820766091346741e-11,\n",
              "  3.814697265625e-06),\n",
              " (7.62939453125e-06,\n",
              "  3.814697265625e-06,\n",
              "  1.4551915228366852e-11,\n",
              "  1.9073486328125e-06),\n",
              " (3.814697265625e-06,\n",
              "  1.9073486328125e-06,\n",
              "  3.637978807091713e-12,\n",
              "  9.5367431640625e-07),\n",
              " (1.9073486328125e-06,\n",
              "  9.5367431640625e-07,\n",
              "  9.094947017729282e-13,\n",
              "  4.76837158203125e-07),\n",
              " (9.5367431640625e-07,\n",
              "  4.76837158203125e-07,\n",
              "  2.2737367544323206e-13,\n",
              "  2.384185791015625e-07),\n",
              " (4.76837158203125e-07,\n",
              "  2.384185791015625e-07,\n",
              "  5.684341886080802e-14,\n",
              "  1.1920928955078125e-07),\n",
              " (2.384185791015625e-07,\n",
              "  1.1920928955078125e-07,\n",
              "  1.4210854715202004e-14,\n",
              "  5.960464477539063e-08),\n",
              " (1.1920928955078125e-07,\n",
              "  5.960464477539063e-08,\n",
              "  3.552713678800501e-15,\n",
              "  2.9802322387695312e-08)]"
            ]
          },
          "metadata": {},
          "execution_count": 111
        }
      ]
    },
    {
      "cell_type": "code",
      "source": [
        "fig, ax = plt.subplots()\n",
        "xlim = 4\n",
        "ylim = 5\n",
        "\n",
        "line, = ax.plot([], [])\n",
        "\n",
        "domain = np.linspace(-xlim, xlim,100)\n",
        "\n",
        "def init():\n",
        "    line.set_data([], [])\n",
        "    return line,\n",
        "\n",
        "def animate(i):\n",
        "    ax.clear()\n",
        "    ax.set_xlim(-xlim, xlim)\n",
        "    ax.set_ylim(-1, ylim)\n",
        "    ax.plot(domain, f(domain))\n",
        "    ax.plot(domain, tangent(plots[i][0], plots[i][1], plots[i][2], domain))\n",
        "    ax.plot(plots[i][1], plots[i][2], \"X\")\n",
        "    ax.plot(plots[i][3], 0, \"*\")\n",
        "    ax.grid()\n",
        "    return line,\n",
        "\n",
        "\n",
        "ani = FuncAnimation(fig, animate, frames=len(plots), init_func=init, blit=True)\n",
        "ani.save(\"newton.gif\", writer=\"Pillow\")"
      ],
      "metadata": {
        "colab": {
          "base_uri": "https://localhost:8080/",
          "height": 472
        },
        "id": "pI0geXvQtlVv",
        "outputId": "d7941e40-be1e-4611-fce2-9b290160f5f7"
      },
      "execution_count": null,
      "outputs": [
        {
          "output_type": "stream",
          "name": "stderr",
          "text": [
            "WARNING:matplotlib.animation:MovieWriter Pillow unavailable; using Pillow instead.\n"
          ]
        },
        {
          "output_type": "display_data",
          "data": {
            "text/plain": [
              "<Figure size 640x480 with 1 Axes>"
            ],
            "image/png": "[encoded data removed]"
          },
          "metadata": {}
        }
      ]
    },
    {
      "cell_type": "code",
      "source": [],
      "metadata": {
        "id": "fJuvGNny1G7t"
      },
      "execution_count": null,
      "outputs": []
    }
  ]
}